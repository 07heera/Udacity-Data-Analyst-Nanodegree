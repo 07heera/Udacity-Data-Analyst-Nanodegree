{
 "cells": [
  {
   "cell_type": "markdown",
   "metadata": {
    "collapsed": false
   },
   "source": [
    "# ** Data Wrangling with MongoDB**#\n",
    "###### by Ly Vinh Hung (Tommy) in fulfillment of Udacity’s Data Analyst Nanodegree, Project 3"
   ]
  },
  {
   "cell_type": "markdown",
   "metadata": {},
   "source": [
    "## Project Summary <a name=\"top\"></a>\n",
    "Name: Ly Vinh Hung\n",
    "\n",
    "**Map area:**\n",
    "+ Location: San Jose, California\n",
    "- <a href=https://s3.amazonaws.com/metro-extracts.mapzen.com/san-jose_california.osm.bz2> Mapzen URl for San Jose, U.S.A. </a> \n",
    "\n",
    "Objective: Audit, clean the OSM dataset, convert from XML to JSON format and analyze insight within the data.\n",
    "\n",
    "**References:**\n",
    "\n",
    "Udacity \"Data Wrangling with MongoDB\" - Lesson 6\n",
    "\n",
    "<a href=http://www.cceo.org/addressing/documents/StreetAbbreviationsGuide.pdf> CCEO Street Abbreviations Guide PDF </a> \n",
    "\n",
    "<a href=https://docs.mongodb.org/manual/reference/program/mongoimport/> MongoDB Importing XML to JSON Guide </a> \n"
   ]
  },
  {
   "cell_type": "markdown",
   "metadata": {},
   "source": [
    "<hr>"
   ]
  },
  {
   "cell_type": "markdown",
   "metadata": {},
   "source": [
    "Table of Contents \n",
    "----\n",
    "[](#top)\n",
    "0. [Data Audit](#audit)\n",
    "1. [Problems encountered](#problems)\n",
    "2. [Data Overview with MongoDB](#data_overview)\n",
    "3. [Additional Insight using MongoDB](#exploration)\n",
    "4.  [Conclusion](#conclusion)"
   ]
  },
  {
   "cell_type": "markdown",
   "metadata": {},
   "source": [
    "<hr>"
   ]
  },
  {
   "cell_type": "markdown",
   "metadata": {},
   "source": [
    "<h2><a name=\"audit\"></a> **1. Data Audit**</h2>"
   ]
  },
  {
   "cell_type": "code",
   "execution_count": 143,
   "metadata": {
    "collapsed": true
   },
   "outputs": [],
   "source": [
    "import xml.etree.cElementTree as ET\n",
    "import pprint\n",
    "import re\n",
    "import codecs\n",
    "import json\n",
    "import collections\n",
    "import pymongo"
   ]
  },
  {
   "cell_type": "code",
   "execution_count": 6,
   "metadata": {
    "collapsed": false
   },
   "outputs": [],
   "source": [
    "datadir = \"data\"\n",
    "datafile = \"san-jose_california.osm\"\n",
    "cal_data = os.path.join(datadir, datafile)"
   ]
  },
  {
   "cell_type": "markdown",
   "metadata": {
    "collapsed": false
   },
   "source": [
    "> I parse through the San Jose dataset with ElementTree and count the number of unique element types to get an overall understanding of the data by using count_tags function."
   ]
  },
  {
   "cell_type": "code",
   "execution_count": 10,
   "metadata": {
    "collapsed": false
   },
   "outputs": [
    {
     "name": "stdout",
     "output_type": "stream",
     "text": [
      "{'bounds': 1,\n",
      " 'member': 7489,\n",
      " 'nd': 1165081,\n",
      " 'node': 997402,\n",
      " 'osm': 1,\n",
      " 'relation': 848,\n",
      " 'tag': 542050,\n",
      " 'way': 124444}\n"
     ]
    }
   ],
   "source": [
    "#Parse through the file with ElementTree and count the number of unique element types to understand overall structure.\n",
    "def count_tags(filename):\n",
    "        tags = {}\n",
    "        for event, elem in ET.iterparse(filename):\n",
    "            if elem.tag in tags: \n",
    "                tags[elem.tag] += 1\n",
    "            else:\n",
    "                tags[elem.tag] = 1\n",
    "        return tags\n",
    "cal_tags = count_tags(cal_data)\n",
    "pprint.pprint(cal_tags)"
   ]
  },
  {
   "cell_type": "markdown",
   "metadata": {},
   "source": [
    "> For the follinwg function: key_type & process_map. We check the \"k\"\n",
    "value for each \"<tag>\" and see if they can be valid keys in MongoDB, as well as see if there are any other potential problems.\n",
    "As we saw in the quiz earlier, we would like to change the data\n",
    "model and expand the \"addr:street\" type of keys to a dictionary like this:\n",
    "{\"address\": {\"street\": \"Some value\"}}\n",
    "So, we have to see if we have such tags, and if we have any tags with\n",
    "problematic characters.\n",
    "\n",
    "> For the function 'key_type', we have a count of each of\n",
    "three tag categories in a dictionary:\n",
    "  \"lower\", for tags that contain only lowercase letters and are valid,\n",
    "  \"lower_colon\", for otherwise valid tags with a colon in their names,\n",
    "  \"problemchars\", for tags with problematic characters, and\n"
   ]
  },
  {
   "cell_type": "code",
   "execution_count": 13,
   "metadata": {
    "collapsed": false,
    "scrolled": false
   },
   "outputs": [
    {
     "name": "stdout",
     "output_type": "stream",
     "text": [
      "{'lower': 286485, 'lower_colon': 238128, 'other': 17437, 'problemchars': 0}\n"
     ]
    }
   ],
   "source": [
    "import re\n",
    "\n",
    "lower = re.compile(r'^([a-z]|_)*$')\n",
    "lower_colon = re.compile(r'^([a-z]|_)*:([a-z]|_)*$')\n",
    "problemchars = re.compile(r'[=\\+/&<>;\\'\"\\?%#$@\\,\\. \\t\\r\\n]')\n",
    "\n",
    "\n",
    "def key_type(element, keys):\n",
    "    if element.tag == \"tag\":\n",
    "        for tag in element.iter('tag'):\n",
    "            k = tag.get('k')\n",
    "            if lower.search(k):\n",
    "                keys['lower'] += 1\n",
    "            elif lower_colon.search(k):\n",
    "                keys['lower_colon'] += 1\n",
    "            elif problemchars.search(k):\n",
    "                keys['problemchars'] += 1\n",
    "            else:\n",
    "                keys['other'] += 1\n",
    "    return keys\n",
    "\n",
    "\n",
    "def process_map(filename):\n",
    "    keys = {\"lower\": 0, \"lower_colon\": 0, \"problemchars\": 0, \"other\": 0}\n",
    "    for _, element in ET.iterparse(filename):\n",
    "        keys = key_type(element, keys)\n",
    "\n",
    "    return keys\n",
    "\n",
    "cal_keys = process_map(cal_data)\n",
    "pprint.pprint(cal_keys)"
   ]
  },
  {
   "cell_type": "markdown",
   "metadata": {},
   "source": [
    "> The following task is a fun one - find out how many unique users\n",
    "have contributed to the map in San Jose area, we have 1022 uniques users have already worked on this\n",
    "\n"
   ]
  },
  {
   "cell_type": "code",
   "execution_count": 15,
   "metadata": {
    "collapsed": false
   },
   "outputs": [
    {
     "data": {
      "text/plain": [
       "1022"
      ]
     },
     "execution_count": 15,
     "metadata": {},
     "output_type": "execute_result"
    }
   ],
   "source": [
    "#people invovlved in the map editing.\n",
    "def process_map(filename):\n",
    "    users = set()\n",
    "    for _, element in ET.iterparse(filename):\n",
    "        for e in element:\n",
    "            if 'uid' in e.attrib:\n",
    "                users.add(e.attrib['uid'])\n",
    "    return users\n",
    "users = process_map(cal_data)\n",
    "len(users)"
   ]
  },
  {
   "cell_type": "markdown",
   "metadata": {},
   "source": [
    "<hr>"
   ]
  },
  {
   "cell_type": "markdown",
   "metadata": {},
   "source": [
    "[<div align=\"center\">Back to top</div>](#top)"
   ]
  },
  {
   "cell_type": "markdown",
   "metadata": {},
   "source": [
    "<h2><a name=\"problems\"></a> **2. Problem encountered**</h2>"
   ]
  },
  {
   "cell_type": "markdown",
   "metadata": {},
   "source": [
    ">  The main problem we encountered in this dataset come from the street name abbreviation inconsistency. In this following code, we build the regex matching the last element in the string, where usually the street type is based. Then we come up with a list of mapping that need not to be cleaned.  "
   ]
  },
  {
   "cell_type": "code",
   "execution_count": 43,
   "metadata": {
    "collapsed": true
   },
   "outputs": [],
   "source": [
    "from collections import defaultdict\n",
    "\n",
    "street_type_re = re.compile(r'\\b\\S+\\.?$', re.IGNORECASE)\n",
    "\n",
    "expected = [\"Avenue\", \"Boulevard\", \"Commons\", \"Court\", \"Drive\", \"Lane\", \"Parkway\", \n",
    "                         \"Place\", \"Road\", \"Square\", \"Street\", \"Trail\"]\n",
    "\n",
    "mapping = {'Ave'  : 'Avenue',\n",
    "           'Blvd' : 'Boulevard',\n",
    "           'Dr'   : 'Drive',\n",
    "           'Ln'   : 'Lane',\n",
    "           'Pkwy' : 'Parkway',\n",
    "           'Rd'   : 'Road',\n",
    "           'Rd.'   : 'Road',\n",
    "           'St'   : 'Street',\n",
    "           'street' :\"Street\",\n",
    "           'Ct'   : \"Court\",\n",
    "           'Cir'  : \"Circle\",\n",
    "           'Cr'   : \"Court\",\n",
    "           'ave'  : 'Avenue',\n",
    "           'Hwg'  : 'Highway',\n",
    "           'Hwy'  : 'Highway',\n",
    "           'Sq'   : \"Square\"}\n",
    "\n"
   ]
  },
  {
   "cell_type": "markdown",
   "metadata": {},
   "source": [
    "> + audit_street_type function search the input string for the regex. If there is a match and it is not within the \"expected\" list, add the match as a key and add the string to the set.\n",
    "+ is_street_name function looks at the attribute k if k=\"addre:street\" \n",
    "+ audit functio will return the list that match previous two functions. After that, we would do a pretty print the output of the audit. With the list of all the abbreviated street types we can understand and fill-up our \"mapping\" dictionary as a preparatio to convert these street name into proper form.\n"
   ]
  },
  {
   "cell_type": "code",
   "execution_count": 26,
   "metadata": {
    "collapsed": true
   },
   "outputs": [],
   "source": [
    "def audit_street_type(street_types, street_name):\n",
    "    m = street_type_re.search(street_name)\n",
    "    if m:\n",
    "        street_type = m.group()\n",
    "        if street_type not in expected:\n",
    "            street_types[street_type].add(street_name)\n",
    "\n",
    "def is_street_name(elem):\n",
    "    return (elem.attrib['k'] == \"addr:street\")\n",
    "\n",
    "def audit(osmfile):\n",
    "    osm_file = open(osmfile, \"r\")\n",
    "    street_types = defaultdict(set)\n",
    "    for event, elem in ET.iterparse(osm_file, events=(\"start\",)):\n",
    "\n",
    "        if elem.tag == \"node\" or elem.tag == \"way\":\n",
    "            for tag in elem.iter(\"tag\"):\n",
    "                if is_street_name(tag):\n",
    "                    audit_street_type(street_types, tag.attrib['v'])\n",
    "\n",
    "    return street_types\n",
    "\n",
    "\n"
   ]
  },
  {
   "cell_type": "code",
   "execution_count": 27,
   "metadata": {
    "collapsed": true
   },
   "outputs": [],
   "source": [
    "cal_street_types = audit(cal_data)"
   ]
  },
  {
   "cell_type": "code",
   "execution_count": 29,
   "metadata": {
    "collapsed": false,
    "scrolled": true
   },
   "outputs": [
    {
     "name": "stdout",
     "output_type": "stream",
     "text": [
      "{'0.1': set(['Ala 680 PM 0.1']),\n",
      " '1': set(['Stewart Drive Suite #1']),\n",
      " '114': set(['West Evelyn Avenue Suite #114']),\n",
      " '7.1': set(['Hwy 17 PM 7.1']),\n",
      " 'Alameda': set(['The Alameda']),\n",
      " 'Ave': set(['1425 E Dunne Ave',\n",
      "             'Blake Ave',\n",
      "             'Cabrillo Ave',\n",
      "             'Cherry Ave',\n",
      "             'Foxworthy Ave',\n",
      "             'Meridian Ave',\n",
      "             'N Blaney Ave',\n",
      "             'Saratoga Ave',\n",
      "             'Seaboard Ave',\n",
      "             'The Alameda Ave',\n",
      "             'Walsh Ave']),\n",
      " 'Barcelona': set(['Calle de Barcelona']),\n",
      " 'Bascom': set(['S. Bascom']),\n",
      " 'Bellomy': set(['Bellomy']),\n",
      " 'Blvd': set(['McCarthy Blvd',\n",
      "              'Mission College Blvd',\n",
      "              'N McCarthy Blvd',\n",
      "              'Palm Valley Blvd',\n",
      "              'Santa Teresa Blvd',\n",
      "              'Stevens Creek Blvd']),\n",
      " 'CA': set(['Zanker Rd., San Jose, CA', 'Zanker Road, San Jose, CA']),\n",
      " 'Cir': set(['Celadon Cir']),\n",
      " 'Circle': set(['Bobolink Circle',\n",
      "                'Calabazas Creek Circle',\n",
      "                'Carriage Circle',\n",
      "                'Continental Circle',\n",
      "                'Ferrara Circle',\n",
      "                'Freedom Circle',\n",
      "                'Gardenside Circle',\n",
      "                'Greenwood Circle',\n",
      "                'Joseph Circle',\n",
      "                'Minnis Circle',\n",
      "                'Mountain Quail Circle',\n",
      "                'Murano Circle',\n",
      "                'Rose Terrasse Circle',\n",
      "                'Vista Club Circle',\n",
      "                'Winchester Circle',\n",
      "                'vista Club Circle']),\n",
      " 'Ct': set(['Perivale Ct']),\n",
      " 'Dr': set(['Fountain Oaks Dr', 'Linwood Dr', 'Minto Dr', 'Samaritan Dr']),\n",
      " 'East': set(['Park Circle East', 'Rio Robles East', 'Vanderbilt Court East']),\n",
      " 'Expressway': set(['Almaden Expressway',\n",
      "                    'Central Expressway',\n",
      "                    'E. Capitol Expressway',\n",
      "                    'East Capitol Expressway',\n",
      "                    'Lawrence Expressway',\n",
      "                    'Montague Expressway',\n",
      "                    'San Tomas Expressway',\n",
      "                    'West Capitol Expressway']),\n",
      " 'Franklin': set(['Franklin']),\n",
      " 'Hamilton': set(['Mount Hamilton']),\n",
      " 'Highway': set(['Old Santa Cruz Highway']),\n",
      " 'Hill': set(['Blossom Hill']),\n",
      " 'Hwy': set(['Monterey Hwy']),\n",
      " 'Julian': set(['West Julian']),\n",
      " 'Ln': set(['Gaundabert Ln']),\n",
      " 'Loop': set(['Infinite Loop', 'Village View Loop']),\n",
      " 'Luna': set(['Calle de Luna']),\n",
      " 'Madrid': set(['Corte de Madrid']),\n",
      " 'Marino': set(['Via San Marino']),\n",
      " 'Napoli': set(['Via Napoli']),\n",
      " 'Palamos': set(['Via Palamos']),\n",
      " 'Paviso': set(['Via Paviso']),\n",
      " 'Plaza': set(['Portal Plaza', 'Rivermark Plaza']),\n",
      " 'Portofino': set(['Via Portofino']),\n",
      " 'Presada': set(['Paseo Presada']),\n",
      " 'Rd': set(['Homestead Rd', 'Saratoga Los Gatos Rd']),\n",
      " 'Real': set(['E El Camino Real',\n",
      "              'East El Camino Real',\n",
      "              'El Camino Real',\n",
      "              'West El Camino Real']),\n",
      " 'Row': set(['Santana Row']),\n",
      " 'Seville': set(['Corte de Seville']),\n",
      " 'Sorrento': set(['Via Sorrento']),\n",
      " 'Sq': set(['Evergreen Village Sq']),\n",
      " 'St': set(['Casa Verde St', 'Monroe St']),\n",
      " 'Terrace': set(['Amherst Terrace',\n",
      "                 'Anaheim Terrace',\n",
      "                 'Avon Terrace',\n",
      "                 'Avoset Terrace',\n",
      "                 'Belmont Terrace',\n",
      "                 'Brea Terrace',\n",
      "                 'Bridgeport Terrace',\n",
      "                 'Bristol Terrace',\n",
      "                 'Cedarbrook Terrace',\n",
      "                 'Crown Point Terrace',\n",
      "                 'Fontana Terrace',\n",
      "                 'Hobart Terrace',\n",
      "                 'Hogarth Terrace',\n",
      "                 'Holthouse Terrace',\n",
      "                 'Isla Vista Terrace',\n",
      "                 'Kearny Terrace',\n",
      "                 'Lautrec Terrace',\n",
      "                 'Lessing Terrace',\n",
      "                 'Leuven Terrace',\n",
      "                 'Liege Terrace',\n",
      "                 'Manet Terrace',\n",
      "                 'Markham Terrace',\n",
      "                 'Miller Terrace',\n",
      "                 'Oak Point Terrace',\n",
      "                 'Panache Terrace',\n",
      "                 'Pennyroyal Terrace',\n",
      "                 'Pescadero Terrace',\n",
      "                 'Pine Pass Terrace',\n",
      "                 'Pinnacles Terrace',\n",
      "                 'Pismo Terrace',\n",
      "                 'Pyracantha Terrace',\n",
      "                 'Raines Terrace',\n",
      "                 'Redondo Terrace',\n",
      "                 'Reston Terrace',\n",
      "                 'Riorden Terrace',\n",
      "                 'Santa Rosalia Terrace',\n",
      "                 'Satsuma Terrace',\n",
      "                 'Seneca Terrace',\n",
      "                 'Spencer Terrace',\n",
      "                 'Springfield Terrace',\n",
      "                 'Windsor Terrace',\n",
      "                 'Yellowstone Terrace']),\n",
      " 'Volante': set(['Via Volante']),\n",
      " 'Walk': set(['Paseo de San Antonio Walk']),\n",
      " 'Way': set(['Alderbrook Way',\n",
      "             'All America Way',\n",
      "             'Allison Way',\n",
      "             'Almaden Express Way',\n",
      "             'Altair Way',\n",
      "             'Arata Way',\n",
      "             'Aries Way',\n",
      "             'Barnsley Way',\n",
      "             'Belfry Way',\n",
      "             'Berwick Way',\n",
      "             'Bianchi Way',\n",
      "             'Big Basin Way',\n",
      "             'Blanchard Way',\n",
      "             'Brahms Way',\n",
      "             'Candlelight Way',\n",
      "             'Carick Way & Ravens Place Way',\n",
      "             'Carlisle Way',\n",
      "             'Cartwright Way',\n",
      "             'Cheshire Way',\n",
      "             'Cisco Way',\n",
      "             'Clifden Way',\n",
      "             'Colt Way',\n",
      "             'Connemara Way',\n",
      "             'Dartshire Way',\n",
      "             'Devonshire Way',\n",
      "             'Dorset Way',\n",
      "             'Dublin Way',\n",
      "             'Duncardine Way',\n",
      "             'Dunholme Way',\n",
      "             'Dunnock Way',\n",
      "             'Durshire Way',\n",
      "             'Embedded Way',\n",
      "             'Enterprise Way',\n",
      "             'Erin Way',\n",
      "             'Farmingham Way',\n",
      "             'Felton Way',\n",
      "             'Fife Way',\n",
      "             'Firebird Way',\n",
      "             'Flamingo Way',\n",
      "             'Flicker Way',\n",
      "             'Flin Way',\n",
      "             'Forge Way',\n",
      "             'Gillick Way',\n",
      "             'Hermocilla Way',\n",
      "             'Holger Way',\n",
      "             'Humewick Way',\n",
      "             'Hunter Way',\n",
      "             'Innovation Way',\n",
      "             'John Way',\n",
      "             'Kingfisher Way',\n",
      "             'Larry Way',\n",
      "             'Las Ondas Way',\n",
      "             'Lilac Way',\n",
      "             'Locksunart Way',\n",
      "             'Longfellow Way',\n",
      "             'Mallard Way',\n",
      "             'Mandarin Way',\n",
      "             'Marie P. DeBartolo Way',\n",
      "             'Martinwood Way',\n",
      "             'Miette Way',\n",
      "             'Milky Way',\n",
      "             'Moreland Way',\n",
      "             'Nandina Way',\n",
      "             'Nelson Way',\n",
      "             'Normandy Way',\n",
      "             'Patriot Way',\n",
      "             'Poppy Way',\n",
      "             'Primrose Way',\n",
      "             'Prince Edward Way',\n",
      "             'Pyrus Way',\n",
      "             'Revelstoke Way',\n",
      "             'Ridgeview Way',\n",
      "             'Robindell Way',\n",
      "             'Rose Orchard Way',\n",
      "             'Saich Way',\n",
      "             'Sakura Way',\n",
      "             'San Luisito Way',\n",
      "             'Senate Way',\n",
      "             'Serra Way',\n",
      "             'Shelburne Way',\n",
      "             'Squirewood Way',\n",
      "             'Tangerine Way',\n",
      "             'Tartarian Way',\n",
      "             'Terry Way',\n",
      "             'Tomlin Way',\n",
      "             'Tonita Way',\n",
      "             'Ward Way',\n",
      "             'Westlynn Way',\n",
      "             'Whitney Way',\n",
      "             'Wildflower Way',\n",
      "             'Willowbrook Way',\n",
      "             'Wilson Way',\n",
      "             'Woodbank Way',\n",
      "             'Woz Way',\n",
      "             'Zinfandel Way']),\n",
      " 'West': set(['Park Circle West', 'Vanderbilt Court West']),\n",
      " 'Winchester': set(['Winchester']),\n",
      " 'ave': set(['wilcox ave']),\n",
      " 'robles': set(['rio robles']),\n",
      " 'street': set(['N 1st street'])}\n"
     ]
    }
   ],
   "source": [
    "pprint.pprint(dict(cal_street_types))"
   ]
  },
  {
   "cell_type": "markdown",
   "metadata": {},
   "source": [
    "> This last function update_name is the last step of the process, which take the old name and update them with a better name"
   ]
  },
  {
   "cell_type": "code",
   "execution_count": 44,
   "metadata": {
    "collapsed": false
   },
   "outputs": [
    {
     "name": "stdout",
     "output_type": "stream",
     "text": [
      "Winchester => Winchester\n",
      "Gaundabert Ln => Gaundabert Lane\n",
      "Park Circle West => Park Circle West\n",
      "Vanderbilt Court West => Vanderbilt Court West\n",
      "Saratoga Los Gatos Rd => Saratoga Los Gatos Road\n",
      "Homestead Rd => Homestead Road\n",
      "West Evelyn Avenue Suite #114 => West Evelyn Avenue Suite #114\n",
      "Hwy 17 PM 7.1 => Hwy 17 PM 7.1\n",
      "Blossom Hill => Blossom Hill\n",
      "Devonshire Way => Devonshire Way\n",
      "Flicker Way => Flicker Way\n",
      "Saich Way => Saich Way\n",
      "Clifden Way => Clifden Way\n",
      "Arata Way => Arata Way\n",
      "Shelburne Way => Shelburne Way\n",
      "Erin Way => Erin Way\n",
      "Normandy Way => Normandy Way\n",
      "John Way => John Way\n",
      "Brahms Way => Brahms Way\n",
      "Senate Way => Senate Way\n",
      "Lilac Way => Lilac Way\n",
      "Primrose Way => Primrose Way\n",
      "Cisco Way => Cisco Way\n",
      "Marie P. DeBartolo Way => Marie P. DeBartolo Way\n",
      "Dunnock Way => Dunnock Way\n",
      "Squirewood Way => Squirewood Way\n",
      "Ward Way => Ward Way\n",
      "Forge Way => Forge Way\n",
      "Prince Edward Way => Prince Edward Way\n",
      "Moreland Way => Moreland Way\n",
      "Almaden Express Way => Almaden Express Way\n",
      "Allison Way => Allison Way\n",
      "Big Basin Way => Big Basin Way\n",
      "Duncardine Way => Duncardine Way\n",
      "Westlynn Way => Westlynn Way\n",
      "Colt Way => Colt Way\n",
      "Firebird Way => Firebird Way\n",
      "Serra Way => Serra Way\n",
      "Enterprise Way => Enterprise Way\n",
      "Cartwright Way => Cartwright Way\n",
      "Tomlin Way => Tomlin Way\n",
      "Aries Way => Aries Way\n",
      "Poppy Way => Poppy Way\n",
      "Cheshire Way => Cheshire Way\n",
      "Berwick Way => Berwick Way\n",
      "Ridgeview Way => Ridgeview Way\n",
      "Mandarin Way => Mandarin Way\n",
      "Woodbank Way => Woodbank Way\n",
      "Innovation Way => Innovation Way\n",
      "Holger Way => Holger Way\n",
      "Wilson Way => Wilson Way\n",
      "Flin Way => Flin Way\n",
      "Farmingham Way => Farmingham Way\n",
      "Mallard Way => Mallard Way\n",
      "Woz Way => Woz Way\n",
      "Belfry Way => Belfry Way\n",
      "Barnsley Way => Barnsley Way\n",
      "Martinwood Way => Martinwood Way\n",
      "Whitney Way => Whitney Way\n",
      "Willowbrook Way => Willowbrook Way\n",
      "Blanchard Way => Blanchard Way\n",
      "Flamingo Way => Flamingo Way\n",
      "Larry Way => Larry Way\n",
      "Locksunart Way => Locksunart Way\n",
      "Sakura Way => Sakura Way\n",
      "Dorset Way => Dorset Way\n",
      "Terry Way => Terry Way\n",
      "Rose Orchard Way => Rose Orchard Way\n",
      "Candlelight Way => Candlelight Way\n",
      "Longfellow Way => Longfellow Way\n",
      "Durshire Way => Durshire Way\n",
      "Connemara Way => Connemara Way\n",
      "Carlisle Way => Carlisle Way\n",
      "Tonita Way => Tonita Way\n",
      "Pyrus Way => Pyrus Way\n",
      "Felton Way => Felton Way\n",
      "Humewick Way => Humewick Way\n",
      "Alderbrook Way => Alderbrook Way\n",
      "Miette Way => Miette Way\n",
      "Dartshire Way => Dartshire Way\n",
      "Dublin Way => Dublin Way\n",
      "Tartarian Way => Tartarian Way\n",
      "Gillick Way => Gillick Way\n",
      "Las Ondas Way => Las Ondas Way\n",
      "Bianchi Way => Bianchi Way\n",
      "Fife Way => Fife Way\n",
      "Hunter Way => Hunter Way\n",
      "Altair Way => Altair Way\n",
      "Hermocilla Way => Hermocilla Way\n",
      "Carick Way & Ravens Place Way => Carick Way & Ravens Place Way\n",
      "Dunholme Way => Dunholme Way\n",
      "Patriot Way => Patriot Way\n",
      "Nandina Way => Nandina Way\n",
      "Revelstoke Way => Revelstoke Way\n",
      "San Luisito Way => San Luisito Way\n",
      "All America Way => All America Way\n",
      "Tangerine Way => Tangerine Way\n",
      "Embedded Way => Embedded Way\n",
      "Kingfisher Way => Kingfisher Way\n",
      "Wildflower Way => Wildflower Way\n",
      "Robindell Way => Robindell Way\n",
      "Milky Way => Milky Way\n",
      "Nelson Way => Nelson Way\n",
      "Zinfandel Way => Zinfandel Way\n",
      "wilcox ave => wilcox Avenue\n",
      "Winchester Circle => Winchester Circle\n",
      "Greenwood Circle => Greenwood Circle\n",
      "Murano Circle => Murano Circle\n",
      "Bobolink Circle => Bobolink Circle\n",
      "Carriage Circle => Carriage Circle\n",
      "Vista Club Circle => Vista Club Circle\n",
      "Continental Circle => Continental Circle\n",
      "Mountain Quail Circle => Mountain Quail Circle\n",
      "Minnis Circle => Minnis Circle\n",
      "Joseph Circle => Joseph Circle\n",
      "Ferrara Circle => Ferrara Circle\n",
      "Calabazas Creek Circle => Calabazas Creek Circle\n",
      "Gardenside Circle => Gardenside Circle\n",
      "Freedom Circle => Freedom Circle\n",
      "vista Club Circle => vista Club Circle\n",
      "Rose Terrasse Circle => Rose Terrasse Circle\n",
      "Vanderbilt Court East => Vanderbilt Court East\n",
      "Park Circle East => Park Circle East\n",
      "Rio Robles East => Rio Robles East\n",
      "The Alameda => The Alameda\n",
      "Old Santa Cruz Highway => Old Santa Cruz Highway\n",
      "El Camino Real => El Camino Real\n",
      "E El Camino Real => E El Camino Real\n",
      "West El Camino Real => West El Camino Real\n",
      "East El Camino Real => East El Camino Real\n",
      "San Tomas Expressway => San Tomas Expressway\n",
      "East Capitol Expressway => East Capitol Expressway\n",
      "Montague Expressway => Montague Expressway\n",
      "West Capitol Expressway => West Capitol Expressway\n",
      "Central Expressway => Central Expressway\n",
      "Almaden Expressway => Almaden Expressway\n",
      "E. Capitol Expressway => E. Capitol Expressway\n",
      "Lawrence Expressway => Lawrence Expressway\n",
      "Via Paviso => Via Paviso\n",
      "Stewart Drive Suite #1 => Stewart Drive Suite #1\n",
      "Ala 680 PM 0.1 => Ala 680 PM 0.1\n",
      "Mount Hamilton => Mount Hamilton\n",
      "Via San Marino => Via San Marino\n",
      "Monterey Hwy => Monterey Highway\n",
      "Via Volante => Via Volante\n",
      "Fountain Oaks Dr => Fountain Oaks Drive\n",
      "Minto Dr => Minto Drive\n",
      "Samaritan Dr => Samaritan Drive\n",
      "Linwood Dr => Linwood Drive\n",
      "Zanker Rd., San Jose, CA => Zanker Rd., San Jose, CA\n",
      "Zanker Road, San Jose, CA => Zanker Road, San Jose, CA\n",
      "rio robles => rio robles\n",
      "Bellomy => Bellomy\n",
      "Via Napoli => Via Napoli\n",
      "Evergreen Village Sq => Evergreen Village Square\n",
      "Portal Plaza => Portal Plaza\n",
      "Rivermark Plaza => Rivermark Plaza\n",
      "Calle de Barcelona => Calle de Barcelona\n",
      "Monroe St => Monroe Street\n",
      "Casa Verde St => Casa Verde Street\n",
      "Celadon Cir => Celadon Circle\n",
      "Franklin => Franklin\n",
      "Via Palamos => Via Palamos\n",
      "Corte de Seville => Corte de Seville\n",
      "Paseo Presada => Paseo Presada\n",
      "Village View Loop => Village View Loop\n",
      "Infinite Loop => Infinite Loop\n",
      "S. Bascom => S. Bascom\n",
      "Via Sorrento => Via Sorrento\n",
      "Via Portofino => Via Portofino\n",
      "West Julian => West Julian\n",
      "Paseo de San Antonio Walk => Paseo de San Antonio Walk\n",
      "Calle de Luna => Calle de Luna\n",
      "N 1st street => N 1st Street\n",
      "Leuven Terrace => Leuven Terrace\n",
      "Holthouse Terrace => Holthouse Terrace\n",
      "Riorden Terrace => Riorden Terrace\n",
      "Yellowstone Terrace => Yellowstone Terrace\n",
      "Springfield Terrace => Springfield Terrace\n",
      "Oak Point Terrace => Oak Point Terrace\n",
      "Windsor Terrace => Windsor Terrace\n",
      "Pescadero Terrace => Pescadero Terrace\n",
      "Lessing Terrace => Lessing Terrace\n",
      "Liege Terrace => Liege Terrace\n",
      "Satsuma Terrace => Satsuma Terrace\n",
      "Avon Terrace => Avon Terrace\n",
      "Hobart Terrace => Hobart Terrace\n",
      "Raines Terrace => Raines Terrace\n",
      "Spencer Terrace => Spencer Terrace\n",
      "Manet Terrace => Manet Terrace\n",
      "Redondo Terrace => Redondo Terrace\n",
      "Pyracantha Terrace => Pyracantha Terrace\n",
      "Pinnacles Terrace => Pinnacles Terrace\n",
      "Santa Rosalia Terrace => Santa Rosalia Terrace\n",
      "Brea Terrace => Brea Terrace\n",
      "Hogarth Terrace => Hogarth Terrace\n",
      "Fontana Terrace => Fontana Terrace\n",
      "Avoset Terrace => Avoset Terrace\n",
      "Lautrec Terrace => Lautrec Terrace\n",
      "Markham Terrace => Markham Terrace\n",
      "Anaheim Terrace => Anaheim Terrace\n",
      "Pennyroyal Terrace => Pennyroyal Terrace\n",
      "Crown Point Terrace => Crown Point Terrace\n",
      "Amherst Terrace => Amherst Terrace\n",
      "Bridgeport Terrace => Bridgeport Terrace\n",
      "Kearny Terrace => Kearny Terrace\n",
      "Panache Terrace => Panache Terrace\n",
      "Cedarbrook Terrace => Cedarbrook Terrace\n",
      "Belmont Terrace => Belmont Terrace\n",
      "Reston Terrace => Reston Terrace\n",
      "Miller Terrace => Miller Terrace\n",
      "Bristol Terrace => Bristol Terrace\n",
      "Seneca Terrace => Seneca Terrace\n",
      "Isla Vista Terrace => Isla Vista Terrace\n",
      "Pine Pass Terrace => Pine Pass Terrace\n",
      "Pismo Terrace => Pismo Terrace\n",
      "Corte de Madrid => Corte de Madrid\n",
      "Mission College Blvd => Mission College Boulevard\n",
      "Stevens Creek Blvd => Stevens Creek Boulevard\n",
      "Santa Teresa Blvd => Santa Teresa Boulevard\n",
      "Palm Valley Blvd => Palm Valley Boulevard\n",
      "N McCarthy Blvd => N McCarthy Boulevard\n",
      "McCarthy Blvd => McCarthy Boulevard\n",
      "Cherry Ave => Cherry Avenue\n",
      "Saratoga Ave => Saratoga Avenue\n",
      "N Blaney Ave => N Blaney Avenue\n",
      "Blake Ave => Blake Avenue\n",
      "Foxworthy Ave => Foxworthy Avenue\n",
      "Meridian Ave => Meridian Avenue\n",
      "The Alameda Ave => The Alameda Avenue\n",
      "Seaboard Ave => Seaboard Avenue\n",
      "Walsh Ave => Walsh Avenue\n",
      "1425 E Dunne Ave => 1425 E Dunne Avenue\n",
      "Cabrillo Ave => Cabrillo Avenue\n",
      "Santana Row => Santana Row\n",
      "Perivale Ct => Perivale Court\n"
     ]
    }
   ],
   "source": [
    "def update_name(name, mapping, regex):\n",
    "    m = regex.search(name)\n",
    "    if m:\n",
    "        street_type = m.group()\n",
    "        if street_type in mapping:\n",
    "            name = re.sub(regex, mapping[street_type], name)\n",
    "\n",
    "    return name\n",
    "\n",
    "for street_type, ways in cal_street_types.iteritems():\n",
    "    for name in ways:\n",
    "        better_name = update_name(name, mapping, street_type_re)\n",
    "        print name, \"=>\", better_name"
   ]
  },
  {
   "cell_type": "markdown",
   "metadata": {},
   "source": [
    "<hr>"
   ]
  },
  {
   "cell_type": "markdown",
   "metadata": {},
   "source": [
    "[<div align=\"center\">Back to top</div>](#top)"
   ]
  },
  {
   "cell_type": "markdown",
   "metadata": {},
   "source": [
    "##### Preparing for MongoDB by converting XML to JSON"
   ]
  },
  {
   "cell_type": "markdown",
   "metadata": {},
   "source": [
    "> In order to transform the data from XML to JSON, we need to follow these rules:\n",
    "+ Process only 2 types of top level tags: \"node\" and \"way\"\n",
    "+ All attributes of \"node\" and \"way\" should be turned into regular key/value pairs, except: attributes in the CREATED array should be added under a key \"created\", attributes for latitude and longitude should be added to a \"pos\" array, for use in geospacial indexing. Make sure the values inside \"pos\" array are floats and not strings. \n",
    "+ If second level tag \"k\" value contains problematic characters, it should be ignored\n",
    "+ If second level tag \"k\" value starts with \"addr:\", it should be added to a dictionary \"address\"\n",
    "+ If second level tag \"k\" value does not start with \"addr:\", but contains \":\", you can process it\n",
    "  same as any other tag.\n",
    "+ If there is a second \":\" that separates the type/direction of a street,\n",
    "  the tag should be ignored\n",
    "\n",
    "> After all the cleaning and data transformation are done, we would use last function process_map and convert the file from XML into JSON format"
   ]
  },
  {
   "cell_type": "code",
   "execution_count": null,
   "metadata": {
    "collapsed": false
   },
   "outputs": [],
   "source": [
    "import re\n",
    "import codecs\n",
    "import json\n",
    "\n",
    "lower = re.compile(r'^([a-z]|_)*$')\n",
    "lower_colon = re.compile(r'^([a-z]|_)*:([a-z]|_)*$')\n",
    "problemchars = re.compile(r'[=\\+/&<>;\\'\"\\?%#$@\\,\\. \\t\\r\\n]')\n",
    "address_regex = re.compile(r'^addr\\:')\n",
    "street_regex = re.compile(r'^street')\n",
    "\n",
    "CREATED = [ \"version\", \"changeset\", \"timestamp\", \"user\", \"uid\"]\n",
    "\n",
    "\n",
    "def shape_element(element):\n",
    "    node = {}\n",
    "    if element.tag == \"node\" or element.tag == \"way\" :\n",
    "        # YOUR CODE HERE\n",
    "        node['type'] = element.tag\n",
    "        # initialize empty address\n",
    "        address = {}\n",
    "        # parsing through attributes\n",
    "        for a in element.attrib:\n",
    "            if a in CREATED:\n",
    "                if 'created' not in node:\n",
    "                    node['created'] = {}\n",
    "                node['created'][a] = element.get(a)\n",
    "            elif a in ['lat', 'lon']:\n",
    "                continue\n",
    "            else:\n",
    "                node[a] = element.get(a)\n",
    "        # populate position\n",
    "        if 'lat' in element.attrib and 'lon' in element.attrib:\n",
    "            node['pos'] = [float(element.get('lat')), float(element.get('lon'))]\n",
    "\n",
    "        # parse second-level tags for nodes\n",
    "        for e in element:\n",
    "            # parse second-level tags for ways and populate `node_refs`\n",
    "            if e.tag == 'nd':\n",
    "                if 'node_refs' not in node:\n",
    "                    node['node_refs'] = []\n",
    "                if 'ref' in e.attrib:\n",
    "                    node['node_refs'].append(e.get('ref'))\n",
    "\n",
    "            # throw out not-tag elements and elements without `k` or `v`\n",
    "            if e.tag != 'tag' or 'k' not in e.attrib or 'v' not in e.attrib:\n",
    "                continue\n",
    "            key = e.get('k')\n",
    "            val = e.get('v')\n",
    "\n",
    "            # skip problematic characters\n",
    "            if problemchars.search(key):\n",
    "                continue\n",
    "\n",
    "            # parse address k-v pairs\n",
    "            elif address_regex.search(key):\n",
    "                key = key.replace('addr:', '')\n",
    "                address[key] = val\n",
    "\n",
    "            # catch-all\n",
    "            else:\n",
    "                node[key] = val\n",
    "        # compile address\n",
    "        if len(address) > 0:\n",
    "            node['address'] = {}\n",
    "            street_full = None\n",
    "            street_dict = {}\n",
    "            street_format = ['prefix', 'name', 'type']\n",
    "            # parse through address objects\n",
    "            for key in address:\n",
    "                val = address[key]\n",
    "                if street_regex.search(key):\n",
    "                    if key == 'street':\n",
    "                        street_full = val\n",
    "                    elif 'street:' in key:\n",
    "                        street_dict[key.replace('street:', '')] = val\n",
    "                else:\n",
    "                    node['address'][key] = val\n",
    "            # assign street_full or fallback to compile street dict\n",
    "            if street_full:\n",
    "                node['address']['street'] = street_full\n",
    "            elif len(street_dict) > 0:\n",
    "                node['address']['street'] = ' '.join([street_dict[key] for key in street_format])\n",
    "        return node\n",
    "    else:\n",
    "        return None\n",
    "\n",
    "\n",
    "def process_map(file_in, pretty = False):\n",
    "    file_out = \"{0}.json\".format(file_in)\n",
    "    data = []\n",
    "    with codecs.open(file_out, \"w\") as fo:\n",
    "        for _, element in ET.iterparse(file_in):\n",
    "            el = shape_element(element)\n",
    "            if el:\n",
    "                data.append(el)\n",
    "                if pretty:\n",
    "                    fo.write(json.dumps(el, indent=2)+\"\\n\")\n",
    "                else:\n",
    "                    fo.write(json.dumps(el) + \"\\n\")\n",
    "    return data\n",
    "process_map(cal_data)"
   ]
  },
  {
   "cell_type": "markdown",
   "metadata": {},
   "source": [
    "<hr>"
   ]
  },
  {
   "cell_type": "markdown",
   "metadata": {},
   "source": [
    "[<div align=\"center\">Back to top</div>](#top)"
   ]
  },
  {
   "cell_type": "markdown",
   "metadata": {},
   "source": [
    "<h2><a name=\"data_overview\"></a> **3. Data Overview with MongoDB**</h2>"
   ]
  },
  {
   "cell_type": "code",
   "execution_count": 151,
   "metadata": {
    "collapsed": false
   },
   "outputs": [],
   "source": [
    "import signal\n",
    "import subprocess\n",
    "pro = subprocess.Popen('mongod', preexec_fn = os.setsid)"
   ]
  },
  {
   "cell_type": "code",
   "execution_count": 70,
   "metadata": {
    "collapsed": false
   },
   "outputs": [],
   "source": [
    "from pymongo import MongoClient\n",
    "\n",
    "db_name = 'openstreetmap'\n",
    "\n",
    "# Connect to Mongo DB\n",
    "client = MongoClient('localhost:27017')\n",
    "db = client[db_name]"
   ]
  },
  {
   "cell_type": "code",
   "execution_count": 79,
   "metadata": {
    "collapsed": false,
    "scrolled": true
   },
   "outputs": [
    {
     "name": "stdout",
     "output_type": "stream",
     "text": [
      "Executing: mongoimport -h 127.0.0.1:27017 --db openstreetmap --collection data/san-jose_california --file data/san-jose_california.osm.json\n"
     ]
    },
    {
     "data": {
      "text/plain": [
       "0"
      ]
     },
     "execution_count": 79,
     "metadata": {},
     "output_type": "execute_result"
    }
   ],
   "source": [
    "# Build mongoimport command instead of using homebrew\n",
    "collection = cal_data[:cal_data.find('.')]\n",
    "json_file = cal_data + '.json'\n",
    "\n",
    "mongoimport_cmd = 'mongoimport -h 127.0.0.1:27017 ' + \\\n",
    "                  '--db ' + db_name + \\\n",
    "                  ' --collection ' + collection + \\\n",
    "                  ' --file ' + json_file\n",
    "\n",
    "# Before importing, drop collection if it is already running \n",
    "if collection in db.collection_names():\n",
    "    print 'Dropping collection: ' + collection\n",
    "    db[collection].drop()\n",
    "    \n",
    "# Execute the command\n",
    "print 'Executing: ' + mongoimport_cmd\n",
    "subprocess.call(mongoimport_cmd.split())"
   ]
  },
  {
   "cell_type": "code",
   "execution_count": 80,
   "metadata": {
    "collapsed": true
   },
   "outputs": [],
   "source": [
    "sanjose_california = db[collection]\n"
   ]
  },
  {
   "cell_type": "markdown",
   "metadata": {},
   "source": [
    "#### File sizes"
   ]
  },
  {
   "cell_type": "code",
   "execution_count": 85,
   "metadata": {
    "collapsed": false
   },
   "outputs": [
    {
     "name": "stdout",
     "output_type": "stream",
     "text": [
      "The original OSM file is 220.389582 MB\n",
      "The JSON file is 251.264751 MB\n"
     ]
    }
   ],
   "source": [
    "import os\n",
    "print 'The original OSM file is {} MB'.format(os.path.getsize(cal_data)/1.0e6) # convert from bytes to megabytes\n",
    "print 'The JSON file is {} MB'.format(os.path.getsize(cal_data + \".json\")/1.0e6) # convert from bytes to megabytes"
   ]
  },
  {
   "cell_type": "markdown",
   "metadata": {},
   "source": [
    "#### Number of documents"
   ]
  },
  {
   "cell_type": "code",
   "execution_count": 81,
   "metadata": {
    "collapsed": false
   },
   "outputs": [
    {
     "data": {
      "text/plain": [
       "1121846"
      ]
     },
     "execution_count": 81,
     "metadata": {},
     "output_type": "execute_result"
    }
   ],
   "source": [
    "sanjose_california.find().count()\n"
   ]
  },
  {
   "cell_type": "markdown",
   "metadata": {},
   "source": [
    "#### Number of unique users"
   ]
  },
  {
   "cell_type": "code",
   "execution_count": 83,
   "metadata": {
    "collapsed": false
   },
   "outputs": [
    {
     "data": {
      "text/plain": [
       "1017"
      ]
     },
     "execution_count": 83,
     "metadata": {},
     "output_type": "execute_result"
    }
   ],
   "source": [
    "len(sanjose_california.distinct('created.user'))\n"
   ]
  },
  {
   "cell_type": "markdown",
   "metadata": {},
   "source": [
    "#### Number of Nodes and Ways"
   ]
  },
  {
   "cell_type": "code",
   "execution_count": 106,
   "metadata": {
    "collapsed": false
   },
   "outputs": [
    {
     "name": "stdout",
     "output_type": "stream",
     "text": [
      "Number of nodes: 997394\n",
      "Number of ways: 124414\n"
     ]
    }
   ],
   "source": [
    "print \"Number of nodes:\",sanjose_california.find({'type':'node'}).count()\n",
    "print \"Number of ways:\",sanjose_california.find({'type':'way'}).count()"
   ]
  },
  {
   "cell_type": "markdown",
   "metadata": {},
   "source": [
    "#### Name of top 5 contributors"
   ]
  },
  {
   "cell_type": "code",
   "execution_count": 122,
   "metadata": {
    "collapsed": false
   },
   "outputs": [
    {
     "name": "stdout",
     "output_type": "stream",
     "text": [
      "[{u'count': 270237, u'_id': u'nmixter'}, {u'count': 167163, u'_id': u'mk408'}, {u'count': 81442, u'_id': u'Bike Mapper'}, {u'count': 73982, u'_id': u'n76_cupertino_import'}, {u'count': 60124, u'_id': u'n76'}]\n"
     ]
    }
   ],
   "source": [
    "result = sanjose_california.aggregate( [\n",
    "                                        { \"$group\" : {\"_id\" : \"$created.user\", \n",
    "                                        \"count\" : { \"$sum\" : 1} } },\n",
    "                                        { \"$sort\" : {\"count\" : -1} }, \n",
    "                                        { \"$limit\" : 5 } ] )\n",
    "\n",
    "print(list(result))\n"
   ]
  },
  {
   "cell_type": "markdown",
   "metadata": {},
   "source": [
    "<h2><a name=\"exploration\"></a> **4. Further data explaration with MongoDB**</h2>"
   ]
  },
  {
   "cell_type": "markdown",
   "metadata": {},
   "source": [
    "#### List of top 20 amenities in San Jose"
   ]
  },
  {
   "cell_type": "code",
   "execution_count": 123,
   "metadata": {
    "collapsed": false
   },
   "outputs": [
    {
     "name": "stdout",
     "output_type": "stream",
     "text": [
      "[{u'count': 1593, u'_id': u'parking'}, {u'count': 832, u'_id': u'restaurant'}, {u'count': 542, u'_id': u'school'}, {u'count': 415, u'_id': u'fast_food'}, {u'count': 341, u'_id': u'place_of_worship'}, {u'count': 214, u'_id': u'fuel'}, {u'count': 213, u'_id': u'cafe'}, {u'count': 170, u'_id': u'bank'}, {u'count': 166, u'_id': u'bicycle_parking'}, {u'count': 163, u'_id': u'bench'}]\n"
     ]
    }
   ],
   "source": [
    "amenity = sanjose_california.aggregate([{'$match': {'amenity': {'$exists': 1}}}, \\\n",
    "                                {'$group': {'_id': '$amenity', \\\n",
    "                                            'count': {'$sum': 1}}}, \\\n",
    "                                {'$sort': {'count': -1}}, \\\n",
    "                                {'$limit': 10}])\n",
    "print(list(amenity))\n"
   ]
  },
  {
   "cell_type": "markdown",
   "metadata": {},
   "source": [
    "#### List of top 5 cuisine in San Jose"
   ]
  },
  {
   "cell_type": "code",
   "execution_count": 125,
   "metadata": {
    "collapsed": false
   },
   "outputs": [
    {
     "name": "stdout",
     "output_type": "stream",
     "text": [
      "[{u'Food': None, u'Count': 242}, {u'Food': u'mexican', u'Count': 75}, {u'Food': u'chinese', u'Count': 61}, {u'Food': u'vietnamese', u'Count': 51}, {u'Food': u'pizza', u'Count': 50}, {u'Food': u'japanese', u'Count': 38}]\n"
     ]
    }
   ],
   "source": [
    "cuisine = sanjose_california.aggregate([{\"$match\":{\"amenity\":{\"$exists\":1},\n",
    "                                 \"amenity\":\"restaurant\",}},      \n",
    "                      {\"$group\":{\"_id\":{\"Food\":\"$cuisine\"},\n",
    "                                 \"count\":{\"$sum\":1}}},\n",
    "                      {\"$project\":{\"_id\":0,\n",
    "                                  \"Food\":\"$_id.Food\",\n",
    "                                  \"Count\":\"$count\"}},\n",
    "                      {\"$sort\":{\"Count\":-1}}, \n",
    "                      {\"$limit\":6}])\n",
    "print(list(cuisine))"
   ]
  },
  {
   "cell_type": "markdown",
   "metadata": {},
   "source": [
    "#### List of top 10 post code in San Jose"
   ]
  },
  {
   "cell_type": "code",
   "execution_count": 133,
   "metadata": {
    "collapsed": false
   },
   "outputs": [
    {
     "name": "stdout",
     "output_type": "stream",
     "text": [
      "[{u'count': 325, u'_id': u'95014'}, {u'count': 231, u'_id': u'95070'}, {u'count': 208, u'_id': u'94087'}, {u'count': 181, u'_id': u'94086'}, {u'count': 140, u'_id': u'95051'}, {u'count': 88, u'_id': u'95127'}, {u'count': 83, u'_id': u'95129'}, {u'count': 76, u'_id': u'95035'}, {u'count': 74, u'_id': u'95135'}, {u'count': 73, u'_id': u'95125'}]\n"
     ]
    }
   ],
   "source": [
    "postcode = sanjose_california.aggregate( [ \n",
    "    { \"$match\" : { \"address.postcode\" : { \"$exists\" : 1} } }, \n",
    "    { \"$group\" : { \"_id\" : \"$address.postcode\", \"count\" : { \"$sum\" : 1} } },  \n",
    "    { \"$sort\" : { \"count\" : -1}},\n",
    "      {\"$limit\":10}] )\n",
    "print(list(postcode))"
   ]
  },
  {
   "cell_type": "markdown",
   "metadata": {},
   "source": [
    "#### Total users have unique post (post only one time)"
   ]
  },
  {
   "cell_type": "code",
   "execution_count": 141,
   "metadata": {
    "collapsed": false
   },
   "outputs": [
    {
     "name": "stdout",
     "output_type": "stream",
     "text": [
      "[{u'num_users': 207, u'_id': 1}]\n"
     ]
    }
   ],
   "source": [
    "users = sanjose_california.aggregate( [\n",
    "    { \"$group\" : {\"_id\" : \"$created.user\", \n",
    "                \"count\" : { \"$sum\" : 1} } },\n",
    "    { \"$group\" : {\"_id\" : \"$count\",\n",
    "                \"num_users\": { \"$sum\" : 1} } },\n",
    "    { \"$sort\" : {\"_id\" : 1} },\n",
    "    { \"$limit\" : 1} ] )\n",
    "print(list(users))"
   ]
  },
  {
   "cell_type": "code",
   "execution_count": 142,
   "metadata": {
    "collapsed": false
   },
   "outputs": [
    {
     "name": "stdout",
     "output_type": "stream",
     "text": [
      "[{u'count': 53176, u'_id': u'yes'}, {u'count': 4857, u'_id': u'house'}, {u'count': 3924, u'_id': u'residential'}, {u'count': 413, u'_id': u'apartments'}, {u'count': 325, u'_id': u'roof'}]\n"
     ]
    }
   ],
   "source": [
    "building = sanjose_california.aggregate([\n",
    "       {'$match': {'building': { '$exists': 1}}}, \n",
    "        {'$group': {'_id': '$building',\n",
    "                    'count': {'$sum': 1}}}, \n",
    "        {'$sort': {'count': -1}},\n",
    "        {'$limit': 5}])\n",
    "print(list(building))"
   ]
  },
  {
   "cell_type": "markdown",
   "metadata": {},
   "source": [
    "<hr>"
   ]
  },
  {
   "cell_type": "markdown",
   "metadata": {},
   "source": [
    "[<div align=\"center\">Back to top</div>](#top)"
   ]
  },
  {
   "cell_type": "markdown",
   "metadata": {},
   "source": [
    "<h2><a name=\"conclusion\"></a> **4. Conclusion**</h2>"
   ]
  },
  {
   "cell_type": "markdown",
   "metadata": {},
   "source": [
    ">  When we audit the data, it was very clear that although there are a few street names need to be cleaned, the dataset is fairly well-cleaned. It is well-structured enough to be able to generate user-content like Google did with its Google Maps apps (restaurant ranking, neighborhood safety, building review,etc.) Combining these users data, we can come up with a recommendation engine similar with Google Places. There are still extra spaces we can explore, one of which is to clean up multiple phone data and ZIP codes, individual can have different method of extracting and define these data. Also, we can come up with an automation script to pull data from Google Maps API and update it automatically for the OpenStreetMap since each node has a coordinate (lattitude, longtitude).  "
   ]
  }
 ],
 "metadata": {
  "kernelspec": {
   "display_name": "Python 2",
   "language": "python",
   "name": "python2"
  },
  "language_info": {
   "codemirror_mode": {
    "name": "ipython",
    "version": 2
   },
   "file_extension": ".py",
   "mimetype": "text/x-python",
   "name": "python",
   "nbconvert_exporter": "python",
   "pygments_lexer": "ipython2",
   "version": "2.7.10"
  }
 },
 "nbformat": 4,
 "nbformat_minor": 0
}
